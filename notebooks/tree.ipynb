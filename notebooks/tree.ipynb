{
 "cells": [
  {
   "cell_type": "code",
   "execution_count": null,
   "metadata": {},
   "outputs": [],
   "source": [
    "%load_ext autoreload\n",
    "%autoreload 2"
   ]
  },
  {
   "cell_type": "code",
   "execution_count": null,
   "metadata": {},
   "outputs": [],
   "source": [
    "%load_ext dotenv\n",
    "%dotenv"
   ]
  },
  {
   "cell_type": "code",
   "execution_count": null,
   "metadata": {},
   "outputs": [],
   "source": [
    "import os\n",
    "import math\n",
    "from typing import List, Tuple\n",
    "\n",
    "import pandas as pd\n",
    "from sklearn.tree import DecisionTreeRegressor\n",
    "import seaborn as sns\n",
    "import pygwalker as pyg"
   ]
  },
  {
   "cell_type": "markdown",
   "metadata": {},
   "source": [
    "## environment variables"
   ]
  },
  {
   "cell_type": "code",
   "execution_count": null,
   "metadata": {},
   "outputs": [],
   "source": [
    "DEFAULT_INPUT_FILE = 'example_data.csv'\n",
    "MIN_COMP_RATIO = 0.05"
   ]
  },
  {
   "cell_type": "code",
   "execution_count": null,
   "metadata": {},
   "outputs": [],
   "source": [
    "INPUT_DATA_DIR = os.environ.get('INPUT_DATA_DIR')\n",
    "OUTPUT_DATA_DIR = os.environ.get('OUTPUT_DATA_DIR')\n",
    "assert INPUT_DATA_DIR is not None\n",
    "assert OUTPUT_DATA_DIR is not None"
   ]
  },
  {
   "cell_type": "markdown",
   "metadata": {},
   "source": [
    "## functions"
   ]
  },
  {
   "cell_type": "code",
   "execution_count": null,
   "metadata": {},
   "outputs": [],
   "source": [
    "def load_data(file_name: str=DEFAULT_INPUT_FILE):\n",
    "    f = os.path.join(INPUT_DATA_DIR, file_name)\n",
    "    return pd.read_csv(f)"
   ]
  },
  {
   "cell_type": "code",
   "execution_count": null,
   "metadata": {},
   "outputs": [],
   "source": [
    "def round_nice(number: float, n_digits=1) -> float:\n",
    "    exponent = math.floor(math.log10(number))\n",
    "    base = 10 ** exponent\n",
    "    factor = number / base\n",
    "\n",
    "    # 1, 2, 5のどれに近いかを判定\n",
    "    if factor < 1.5:\n",
    "        return 1 * base\n",
    "    elif factor < 3.5:\n",
    "        return 2 * base\n",
    "    else:\n",
    "        return 5 * base"
   ]
  },
  {
   "cell_type": "code",
   "execution_count": null,
   "metadata": {},
   "outputs": [],
   "source": [
    "def calculate_thresholds(df: pd.DataFrame, col: str, nice_round: bool) -> List[float]:\n",
    "    n = df[col].count()\n",
    "    k = int(1 + math.log2(n))  # Sturges' formula\n",
    "\n",
    "    unique_values = df[col].unique().tolist()\n",
    "    if len(unique_values) <= 1:\n",
    "        return []\n",
    "    if len(unique_values) <= k:\n",
    "        return sorted(unique_values)\n",
    "\n",
    "    print(unique_values)\n",
    "\n",
    "    print(df[col].describe())\n",
    "\n",
    "\n",
    "    bins = pd.qcut(df[col].rank(method='first'), k, duplicates='drop')\n",
    "    cut_points = [bins.cat.categories[i].right for i in range(len(bins.cat.categories) - 1)]    # eliminate max value\n",
    "\n",
    "    print(cut_points)\n",
    "    if nice_round:\n",
    "        # 有効数字1桁の1, 2, 5倍数に丸める\n",
    "        cut_points = sorted(list(set([round_nice(x) for x in cut_points])))\n",
    "\n",
    "    print(k)\n",
    "    print(cut_points)\n",
    "\n",
    "    return cut_points"
   ]
  },
  {
   "cell_type": "code",
   "execution_count": null,
   "metadata": {},
   "outputs": [],
   "source": [
    "def merge_records(df: pd.DataFrame, col: str) -> pd.DataFrame:\n",
    "    \"\"\"\n",
    "    Merge adjacent records with adjacent values in col and the same predicted result\n",
    "    \"\"\"\n",
    "    cut_points = calculate_thresholds(df, col, nice_round=True)\n",
    "\n",
    "    return df"
   ]
  },
  {
   "cell_type": "code",
   "execution_count": null,
   "metadata": {},
   "outputs": [],
   "source": [
    "# for development\n",
    "df = load_data()\n",
    "col = df.columns[-1]\n",
    "print(col)\n",
    "df[col].hist(bins=20)\n",
    "\n",
    "df = merge_records(df, col)"
   ]
  },
  {
   "cell_type": "markdown",
   "metadata": {},
   "source": [
    "## main"
   ]
  },
  {
   "cell_type": "code",
   "execution_count": null,
   "metadata": {},
   "outputs": [],
   "source": [
    "# main\n",
    "df = load_data()"
   ]
  },
  {
   "cell_type": "code",
   "execution_count": null,
   "metadata": {},
   "outputs": [],
   "source": [
    "# sns.pairplot(df)"
   ]
  },
  {
   "cell_type": "code",
   "execution_count": null,
   "metadata": {},
   "outputs": [],
   "source": [
    "# put index to Details field\n",
    "# pyg.walk(df.reset_index())"
   ]
  },
  {
   "cell_type": "code",
   "execution_count": null,
   "metadata": {},
   "outputs": [],
   "source": [
    "target_col = df.columns[0]\n",
    "feature_cols = df.drop(target_col, axis=1).columns.tolist()\n",
    "min_samples = math.ceil(len(df) * MIN_COMP_RATIO)\n",
    "\n",
    "# featureから2つ選んでリストにする\n",
    "feature_col_pairs = [[feature_cols[i], feature_cols[j]] for i in range(len(feature_cols)) for j in range(i+1, len(feature_cols))]"
   ]
  },
  {
   "cell_type": "code",
   "execution_count": null,
   "metadata": {},
   "outputs": [],
   "source": [
    "for feature_col_pair in feature_col_pairs[:2]:\n",
    "    X = df[feature_col_pair]\n",
    "    y = df[target_col]\n",
    "\n",
    "    model = DecisionTreeRegressor(min_samples_leaf=min_samples, min_impurity_decrease=0)\n",
    "    model.fit(X, y)\n",
    "    y_pred = model.predict(X)\n",
    "\n",
    "    df_pred = df[feature_col_pair].copy()\n",
    "    df_pred[target_col] = y\n",
    "    df_pred[f'{target_col}_pred'] = y_pred\n",
    "\n",
    "    # assessment\n",
    "    accuracy = model.score(X, y)\n",
    "    print(accuracy)\n",
    "\n",
    "    df_pred.plot.scatter(x=feature_col_pair[0], y=feature_col_pair[1], c=f'{target_col}_pred', colormap='viridis')"
   ]
  }
 ],
 "metadata": {
  "kernelspec": {
   "display_name": ".venv",
   "language": "python",
   "name": "python3"
  },
  "language_info": {
   "codemirror_mode": {
    "name": "ipython",
    "version": 3
   },
   "file_extension": ".py",
   "mimetype": "text/x-python",
   "name": "python",
   "nbconvert_exporter": "python",
   "pygments_lexer": "ipython3",
   "version": "3.10.14"
  }
 },
 "nbformat": 4,
 "nbformat_minor": 2
}
